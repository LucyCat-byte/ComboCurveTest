{
 "cells": [
  {
   "cell_type": "markdown",
   "id": "f69079d2",
   "metadata": {},
   "source": [
    "# 1. Data Preparation"
   ]
  },
  {
   "cell_type": "code",
   "execution_count": 40,
   "id": "09cbe75a",
   "metadata": {},
   "outputs": [],
   "source": [
    "import numpy as np\n",
    "import pandas as pd\n",
    "import matplotlib.pyplot as plt\n",
    "%matplotlib inline\n",
    "from datetime import datetime"
   ]
  },
  {
   "cell_type": "code",
   "execution_count": 41,
   "id": "dcbbe1a9",
   "metadata": {},
   "outputs": [
    {
     "data": {
      "text/plain": [
       "array(['FEB', 'MAR', 'APR', 'MAY', 'JUN', 'JUL', 'AUG', 'SEP', 'DEC',\n",
       "       'JAN', 'OCT', 'NOV'], dtype=object)"
      ]
     },
     "execution_count": 41,
     "metadata": {},
     "output_type": "execute_result"
    }
   ],
   "source": [
    "# load data\n",
    "filepath = \"Project_data.csv\"\n",
    "df = pd.read_csv(filepath)\n",
    "# getting \"time\" axis using \"year\" and \"month\" column\n",
    "df[\"month\"].unique()\n"
   ]
  },
  {
   "cell_type": "code",
   "execution_count": 42,
   "id": "ccd63b6c",
   "metadata": {},
   "outputs": [],
   "source": [
    "def convert_time(year, month):\n",
    "    month_dict = {\"JAN\": 1,\n",
    "                  \"FEB\": 2,\n",
    "                  \"MAR\": 3,\n",
    "                  \"APR\": 4,\n",
    "                  \"MAY\": 5,\n",
    "                  \"JUN\": 6,\n",
    "                  \"JUL\": 7,\n",
    "                  \"AUG\": 8,\n",
    "                  \"SEP\": 9,\n",
    "                  \"OCT\": 10,\n",
    "                  \"NOV\": 11,\n",
    "                  \"DEC\": 12\n",
    "                 }\n",
    "    time_unit = year * 12 + month_dict[month]\n",
    "    return time_unit"
   ]
  },
  {
   "cell_type": "code",
   "execution_count": 43,
   "id": "39916dbf",
   "metadata": {},
   "outputs": [],
   "source": [
    "df[\"time\"] = df.apply(lambda row : convert_time(row['year'], row['month']), axis = 1)"
   ]
  },
  {
   "cell_type": "code",
   "execution_count": 44,
   "id": "92017255",
   "metadata": {},
   "outputs": [
    {
     "data": {
      "text/html": [
       "<div>\n",
       "<style scoped>\n",
       "    .dataframe tbody tr th:only-of-type {\n",
       "        vertical-align: middle;\n",
       "    }\n",
       "\n",
       "    .dataframe tbody tr th {\n",
       "        vertical-align: top;\n",
       "    }\n",
       "\n",
       "    .dataframe thead th {\n",
       "        text-align: right;\n",
       "    }\n",
       "</style>\n",
       "<table border=\"1\" class=\"dataframe\">\n",
       "  <thead>\n",
       "    <tr style=\"text-align: right;\">\n",
       "      <th></th>\n",
       "      <th>API</th>\n",
       "      <th>year</th>\n",
       "      <th>month</th>\n",
       "      <th>oil</th>\n",
       "      <th>time</th>\n",
       "    </tr>\n",
       "  </thead>\n",
       "  <tbody>\n",
       "    <tr>\n",
       "      <th>0</th>\n",
       "      <td>A_30015420120000</td>\n",
       "      <td>2015</td>\n",
       "      <td>FEB</td>\n",
       "      <td>0</td>\n",
       "      <td>24182</td>\n",
       "    </tr>\n",
       "    <tr>\n",
       "      <th>1</th>\n",
       "      <td>A_30015420120000</td>\n",
       "      <td>2015</td>\n",
       "      <td>MAR</td>\n",
       "      <td>5329</td>\n",
       "      <td>24183</td>\n",
       "    </tr>\n",
       "    <tr>\n",
       "      <th>2</th>\n",
       "      <td>A_30015420120000</td>\n",
       "      <td>2015</td>\n",
       "      <td>APR</td>\n",
       "      <td>2996</td>\n",
       "      <td>24184</td>\n",
       "    </tr>\n",
       "    <tr>\n",
       "      <th>3</th>\n",
       "      <td>A_30015420120000</td>\n",
       "      <td>2015</td>\n",
       "      <td>MAY</td>\n",
       "      <td>2369</td>\n",
       "      <td>24185</td>\n",
       "    </tr>\n",
       "    <tr>\n",
       "      <th>4</th>\n",
       "      <td>A_30015420120000</td>\n",
       "      <td>2015</td>\n",
       "      <td>JUN</td>\n",
       "      <td>1957</td>\n",
       "      <td>24186</td>\n",
       "    </tr>\n",
       "    <tr>\n",
       "      <th>...</th>\n",
       "      <td>...</td>\n",
       "      <td>...</td>\n",
       "      <td>...</td>\n",
       "      <td>...</td>\n",
       "      <td>...</td>\n",
       "    </tr>\n",
       "    <tr>\n",
       "      <th>3019</th>\n",
       "      <td>A_30015424970000</td>\n",
       "      <td>2018</td>\n",
       "      <td>JAN</td>\n",
       "      <td>1976</td>\n",
       "      <td>24217</td>\n",
       "    </tr>\n",
       "    <tr>\n",
       "      <th>3020</th>\n",
       "      <td>A_30015424970000</td>\n",
       "      <td>2018</td>\n",
       "      <td>FEB</td>\n",
       "      <td>1650</td>\n",
       "      <td>24218</td>\n",
       "    </tr>\n",
       "    <tr>\n",
       "      <th>3021</th>\n",
       "      <td>A_30015424970000</td>\n",
       "      <td>2018</td>\n",
       "      <td>MAR</td>\n",
       "      <td>1964</td>\n",
       "      <td>24219</td>\n",
       "    </tr>\n",
       "    <tr>\n",
       "      <th>3022</th>\n",
       "      <td>A_30015424970000</td>\n",
       "      <td>2018</td>\n",
       "      <td>APR</td>\n",
       "      <td>1437</td>\n",
       "      <td>24220</td>\n",
       "    </tr>\n",
       "    <tr>\n",
       "      <th>3023</th>\n",
       "      <td>A_30015424970000</td>\n",
       "      <td>2018</td>\n",
       "      <td>MAY</td>\n",
       "      <td>1963</td>\n",
       "      <td>24221</td>\n",
       "    </tr>\n",
       "  </tbody>\n",
       "</table>\n",
       "<p>3024 rows × 5 columns</p>\n",
       "</div>"
      ],
      "text/plain": [
       "                   API  year month   oil   time\n",
       "0     A_30015420120000  2015   FEB     0  24182\n",
       "1     A_30015420120000  2015   MAR  5329  24183\n",
       "2     A_30015420120000  2015   APR  2996  24184\n",
       "3     A_30015420120000  2015   MAY  2369  24185\n",
       "4     A_30015420120000  2015   JUN  1957  24186\n",
       "...                ...   ...   ...   ...    ...\n",
       "3019  A_30015424970000  2018   JAN  1976  24217\n",
       "3020  A_30015424970000  2018   FEB  1650  24218\n",
       "3021  A_30015424970000  2018   MAR  1964  24219\n",
       "3022  A_30015424970000  2018   APR  1437  24220\n",
       "3023  A_30015424970000  2018   MAY  1963  24221\n",
       "\n",
       "[3024 rows x 5 columns]"
      ]
     },
     "execution_count": 44,
     "metadata": {},
     "output_type": "execute_result"
    }
   ],
   "source": [
    "df"
   ]
  },
  {
   "cell_type": "code",
   "execution_count": 45,
   "id": "07770afb",
   "metadata": {},
   "outputs": [],
   "source": [
    "# group by well name \"API\"\n",
    "df_grouped = df.groupby(\"API\")"
   ]
  },
  {
   "cell_type": "code",
   "execution_count": 46,
   "id": "0544da21",
   "metadata": {},
   "outputs": [],
   "source": [
    "wells = df['API'].unique()"
   ]
  },
  {
   "cell_type": "code",
   "execution_count": 47,
   "id": "84d3c639",
   "metadata": {},
   "outputs": [
    {
     "data": {
      "text/plain": [
       "100"
      ]
     },
     "execution_count": 47,
     "metadata": {},
     "output_type": "execute_result"
    }
   ],
   "source": [
    "# confirm that the file contains data for 100 wells\n",
    "wells.shape[0]"
   ]
  },
  {
   "cell_type": "code",
   "execution_count": 48,
   "id": "a7efb757",
   "metadata": {},
   "outputs": [
    {
     "name": "stdout",
     "output_type": "stream",
     "text": [
      "A_30015422820000 has fewer than 5 data points\n"
     ]
    }
   ],
   "source": [
    "# find out the wells that have fewer than 5 data points\n",
    "dropped = []\n",
    "for well_name in wells:\n",
    "    if df_grouped.get_group(well_name).shape[0] <= 5:\n",
    "        dropped.append(well_name)\n",
    "        print(well_name + \" has fewer than 5 data points\")\n",
    "# drop these wells from the wells list\n",
    "well_list = wells.tolist()\n",
    "for well_few in dropped:\n",
    "    well_list.remove(well_few)"
   ]
  },
  {
   "cell_type": "code",
   "execution_count": 49,
   "id": "d46074b4",
   "metadata": {},
   "outputs": [],
   "source": [
    "model_data = []"
   ]
  },
  {
   "cell_type": "code",
   "execution_count": 50,
   "id": "b6878b75",
   "metadata": {},
   "outputs": [],
   "source": [
    "# finally transform the time unit for each well according to the project requirement \n",
    "# i.e. every well starts producing oil from the time 0\n",
    "for well_name in well_list:\n",
    "    this_well = df_grouped.get_group(well_name).sort_values(by='time', ascending=True)\n",
    "    minTime = min(this_well['time'])\n",
    "    this_well['t'] = this_well['time'] - minTime\n",
    "    model_data.append(this_well)\n",
    "model_data = pd.concat(model_data, ignore_index=True)"
   ]
  },
  {
   "cell_type": "code",
   "execution_count": 51,
   "id": "38f93a80",
   "metadata": {},
   "outputs": [
    {
     "data": {
      "text/html": [
       "<div>\n",
       "<style scoped>\n",
       "    .dataframe tbody tr th:only-of-type {\n",
       "        vertical-align: middle;\n",
       "    }\n",
       "\n",
       "    .dataframe tbody tr th {\n",
       "        vertical-align: top;\n",
       "    }\n",
       "\n",
       "    .dataframe thead th {\n",
       "        text-align: right;\n",
       "    }\n",
       "</style>\n",
       "<table border=\"1\" class=\"dataframe\">\n",
       "  <thead>\n",
       "    <tr style=\"text-align: right;\">\n",
       "      <th></th>\n",
       "      <th>API</th>\n",
       "      <th>year</th>\n",
       "      <th>month</th>\n",
       "      <th>oil</th>\n",
       "      <th>time</th>\n",
       "      <th>t</th>\n",
       "    </tr>\n",
       "  </thead>\n",
       "  <tbody>\n",
       "    <tr>\n",
       "      <th>0</th>\n",
       "      <td>A_30015420120000</td>\n",
       "      <td>2015</td>\n",
       "      <td>FEB</td>\n",
       "      <td>0</td>\n",
       "      <td>24182</td>\n",
       "      <td>0</td>\n",
       "    </tr>\n",
       "    <tr>\n",
       "      <th>1</th>\n",
       "      <td>A_30015420120000</td>\n",
       "      <td>2015</td>\n",
       "      <td>MAR</td>\n",
       "      <td>5329</td>\n",
       "      <td>24183</td>\n",
       "      <td>1</td>\n",
       "    </tr>\n",
       "    <tr>\n",
       "      <th>2</th>\n",
       "      <td>A_30015420120000</td>\n",
       "      <td>2015</td>\n",
       "      <td>APR</td>\n",
       "      <td>2996</td>\n",
       "      <td>24184</td>\n",
       "      <td>2</td>\n",
       "    </tr>\n",
       "    <tr>\n",
       "      <th>3</th>\n",
       "      <td>A_30015420120000</td>\n",
       "      <td>2015</td>\n",
       "      <td>MAY</td>\n",
       "      <td>2369</td>\n",
       "      <td>24185</td>\n",
       "      <td>3</td>\n",
       "    </tr>\n",
       "    <tr>\n",
       "      <th>4</th>\n",
       "      <td>A_30015420120000</td>\n",
       "      <td>2015</td>\n",
       "      <td>JUN</td>\n",
       "      <td>1957</td>\n",
       "      <td>24186</td>\n",
       "      <td>4</td>\n",
       "    </tr>\n",
       "    <tr>\n",
       "      <th>...</th>\n",
       "      <td>...</td>\n",
       "      <td>...</td>\n",
       "      <td>...</td>\n",
       "      <td>...</td>\n",
       "      <td>...</td>\n",
       "      <td>...</td>\n",
       "    </tr>\n",
       "    <tr>\n",
       "      <th>3017</th>\n",
       "      <td>A_30015424970000</td>\n",
       "      <td>2018</td>\n",
       "      <td>JAN</td>\n",
       "      <td>1976</td>\n",
       "      <td>24217</td>\n",
       "      <td>36</td>\n",
       "    </tr>\n",
       "    <tr>\n",
       "      <th>3018</th>\n",
       "      <td>A_30015424970000</td>\n",
       "      <td>2018</td>\n",
       "      <td>FEB</td>\n",
       "      <td>1650</td>\n",
       "      <td>24218</td>\n",
       "      <td>37</td>\n",
       "    </tr>\n",
       "    <tr>\n",
       "      <th>3019</th>\n",
       "      <td>A_30015424970000</td>\n",
       "      <td>2018</td>\n",
       "      <td>MAR</td>\n",
       "      <td>1964</td>\n",
       "      <td>24219</td>\n",
       "      <td>38</td>\n",
       "    </tr>\n",
       "    <tr>\n",
       "      <th>3020</th>\n",
       "      <td>A_30015424970000</td>\n",
       "      <td>2018</td>\n",
       "      <td>APR</td>\n",
       "      <td>1437</td>\n",
       "      <td>24220</td>\n",
       "      <td>39</td>\n",
       "    </tr>\n",
       "    <tr>\n",
       "      <th>3021</th>\n",
       "      <td>A_30015424970000</td>\n",
       "      <td>2018</td>\n",
       "      <td>MAY</td>\n",
       "      <td>1963</td>\n",
       "      <td>24221</td>\n",
       "      <td>40</td>\n",
       "    </tr>\n",
       "  </tbody>\n",
       "</table>\n",
       "<p>3022 rows × 6 columns</p>\n",
       "</div>"
      ],
      "text/plain": [
       "                   API  year month   oil   time   t\n",
       "0     A_30015420120000  2015   FEB     0  24182   0\n",
       "1     A_30015420120000  2015   MAR  5329  24183   1\n",
       "2     A_30015420120000  2015   APR  2996  24184   2\n",
       "3     A_30015420120000  2015   MAY  2369  24185   3\n",
       "4     A_30015420120000  2015   JUN  1957  24186   4\n",
       "...                ...   ...   ...   ...    ...  ..\n",
       "3017  A_30015424970000  2018   JAN  1976  24217  36\n",
       "3018  A_30015424970000  2018   FEB  1650  24218  37\n",
       "3019  A_30015424970000  2018   MAR  1964  24219  38\n",
       "3020  A_30015424970000  2018   APR  1437  24220  39\n",
       "3021  A_30015424970000  2018   MAY  1963  24221  40\n",
       "\n",
       "[3022 rows x 6 columns]"
      ]
     },
     "execution_count": 51,
     "metadata": {},
     "output_type": "execute_result"
    }
   ],
   "source": [
    "# this is the data we need to fit\n",
    "model_data"
   ]
  },
  {
   "cell_type": "markdown",
   "id": "9695fac4",
   "metadata": {},
   "source": [
    "# 2. Prepare the fitting function"
   ]
  },
  {
   "cell_type": "code",
   "execution_count": null,
   "id": "f1a29aef",
   "metadata": {},
   "outputs": [],
   "source": [
    "from scipy.optimize import differential_evolution\n",
    "\n",
    "def ackley(x):\n",
    "    arg1 = -0.2 * np.sqrt(0.5 * (x[0] ** 2 + x[1] ** 2))\n",
    "    arg2 = 0.5 * (np.cos(2. * np.pi * x[0]) + np.cos(2. * np.pi * x[1]))\n",
    "    return -20. * np.exp(arg1) - np.exp(arg2) + 20. + np.e\n",
    "bounds = [(-5, 5), (-5, 5)]\n",
    "result = differential_evolution(ackley, bounds)\n",
    "result.x, result.fun\n",
    "(array([ 0.,  0.]), 4.4408920985006262e-16)"
   ]
  },
  {
   "cell_type": "code",
   "execution_count": 99,
   "id": "2b87cac3",
   "metadata": {},
   "outputs": [],
   "source": [
    "def fit_objective(x, data):\n",
    "    \"\"\"\n",
    "    representing the decay part of production after the peak\n",
    "    x[0]: q0\n",
    "    x[1]: D0\n",
    "    x[2]: b\n",
    "    x[3]: D1\n",
    "    x[4]: t1\n",
    "    \"\"\"\n",
    "    q0 = x[0]\n",
    "    D0 = x[1]\n",
    "    b  = x[2]\n",
    "    D1 = x[3]\n",
    "    t1 = x[4]\n",
    "    q1 = q0 * np.exp(D0 * t1)\n",
    "    \n",
    "    well_t = data[0,:]\n",
    "    well_prod = data[1,:]\n",
    "    \n",
    "    sumLoss = 0\n",
    "    for i in range(len(well_t)):\n",
    "        if well_t[i] < t1:\n",
    "            sumLoss += (q0 * np.exp(D0 * well_t[i]) - well_prod[i])**2.0\n",
    "        else:\n",
    "            sumLoss +=  (q1 / (1.0 + b * D1 * (well_t[i]-t1)**(1.0/b)) - well_prod[i])**2.0\n",
    "    \n",
    "    return sumLoss"
   ]
  },
  {
   "cell_type": "markdown",
   "id": "a582a7e5",
   "metadata": {},
   "source": [
    "# 3. Run the optimizer for each well and save the parameters"
   ]
  },
  {
   "cell_type": "code",
   "execution_count": 100,
   "id": "1faf845f",
   "metadata": {},
   "outputs": [],
   "source": [
    "model_data_grouped = model_data.groupby('API')"
   ]
  },
  {
   "cell_type": "code",
   "execution_count": 143,
   "id": "e3ea89ad",
   "metadata": {
    "scrolled": false
   },
   "outputs": [
    {
     "name": "stderr",
     "output_type": "stream",
     "text": [
      "<ipython-input-99-83a1cd6ce870>:25: RuntimeWarning: overflow encountered in double_scalars\n",
      "  sumLoss +=  (q1 / (1.0 + b * D1 * (well_t[i]-t1)**(1.0/b)) - well_prod[i])**2.0\n",
      "<ipython-input-99-83a1cd6ce870>:25: RuntimeWarning: divide by zero encountered in double_scalars\n",
      "  sumLoss +=  (q1 / (1.0 + b * D1 * (well_t[i]-t1)**(1.0/b)) - well_prod[i])**2.0\n",
      "<ipython-input-99-83a1cd6ce870>:25: RuntimeWarning: invalid value encountered in double_scalars\n",
      "  sumLoss +=  (q1 / (1.0 + b * D1 * (well_t[i]-t1)**(1.0/b)) - well_prod[i])**2.0\n"
     ]
    },
    {
     "name": "stdout",
     "output_type": "stream",
     "text": [
      "Runtime of the program is 111.8398609161377\n"
     ]
    }
   ],
   "source": [
    "from scipy.optimize import differential_evolution\n",
    "import time\n",
    "\n",
    "\n",
    "start = time.time()\n",
    "\n",
    "# run the optimizer for each well\n",
    "params = dict()\n",
    "lossFitting = dict()\n",
    "for well_name in well_list:\n",
    "    well_data = model_data_grouped.get_group(well_name)[['t','oil']]\n",
    "    t = np.asarray(well_data['t'].tolist())\n",
    "    oil = np.asarray(well_data['oil'].tolist())\n",
    "    test = np.stack((t, oil), axis=0)\n",
    "    t_index = well_data[well_data['oil'] == max(well_data['oil'])]\n",
    "    tmax = t_index['t'].tolist()[0]\n",
    "    t1_bound = (tmax,tmax+1.0) # this should be between time of the max prod rate and its next time unit\n",
    "    q0_bound = (0, max(well_data['oil']) * 2.0) # not so sure how to determine the max!!\n",
    "    D0_bound = (0, 10) # not sure how to determine the upper bound!!\n",
    "    b_bound  = (0, 10) # not sure how to determine the upper bound!!\n",
    "    D1_bound = (0, max(well_data['oil'])) # represents the initial decline, so the max should be less than the max prod rate\n",
    "    bounds = [q0_bound, D0_bound, b_bound, D1_bound, t1_bound]\n",
    "    result = differential_evolution(fit_objective, bounds, args=(test,))\n",
    "    params[well_name] = result.x\n",
    "    lossFitting[well_name] = result.fun/len(t)\n",
    "\n",
    "    \n",
    "end = time.time()\n",
    "\n",
    "# total time taken\n",
    "print(f\"Runtime of the program is {end - start}\")\n"
   ]
  },
  {
   "cell_type": "markdown",
   "id": "2ad0f9cb",
   "metadata": {},
   "source": [
    "# 4. Result Visualization"
   ]
  },
  {
   "cell_type": "code",
   "execution_count": 146,
   "id": "e7e278a2",
   "metadata": {},
   "outputs": [
    {
     "data": {
      "image/png": "[encoded data removed]",
      "text/plain": [
       "<Figure size 432x288 with 1 Axes>"
      ]
     },
     "metadata": {
      "needs_background": "light"
     },
     "output_type": "display_data"
    }
   ],
   "source": [
    "plt.bar(list(lossFitting.keys()), lossFitting.values(), color='g')\n",
    "plt.show()"
   ]
  },
  {
   "cell_type": "code",
   "execution_count": 145,
   "id": "8eddf897",
   "metadata": {
    "scrolled": true
   },
   "outputs": [
    {
     "data": {
      "text/plain": [
       "(array([88.,  7.,  2.,  0.,  0.,  0.,  1.,  0.,  0.,  1.]),\n",
       " array([1.43141342e+03, 6.30208138e+07, 1.26040196e+08, 1.89059579e+08,\n",
       "        2.52078961e+08, 3.15098343e+08, 3.78117726e+08, 4.41137108e+08,\n",
       "        5.04156491e+08, 5.67175873e+08, 6.30195256e+08]),\n",
       " <BarContainer object of 10 artists>)"
      ]
     },
     "execution_count": 145,
     "metadata": {},
     "output_type": "execute_result"
    },
    {
     "data": {
      "image/png": "[encoded data removed]",
      "text/plain": [
       "<Figure size 432x288 with 1 Axes>"
      ]
     },
     "metadata": {
      "needs_background": "light"
     },
     "output_type": "display_data"
    }
   ],
   "source": [
    "h = [v for v in lossFitting.values()]\n",
    "plt.hist(h)"
   ]
  },
  {
   "cell_type": "code",
   "execution_count": 147,
   "id": "e3c35e55",
   "metadata": {},
   "outputs": [],
   "source": [
    "plot_wells = well_list[0:4]"
   ]
  },
  {
   "cell_type": "code",
   "execution_count": 151,
   "id": "c8a58cd4",
   "metadata": {},
   "outputs": [
    {
     "data": {
      "image/png": "[encoded data removed]",
      "text/plain": [
       "<Figure size 432x288 with 1 Axes>"
      ]
     },
     "metadata": {
      "needs_background": "light"
     },
     "output_type": "display_data"
    }
   ],
   "source": [
    "\n",
    "for well_name in plot_wells:\n",
    "    well_data = model_data_grouped.get_group(well_name)[['t','oil']]\n",
    "    t = np.asarray(well_data['t'].tolist())\n",
    "    oil = np.asarray(well_data['oil'].tolist())\n",
    "    x = params[well_name]\n",
    "    q0 = x[0]\n",
    "    D0 = x[1]\n",
    "    b  = x[2]\n",
    "    D1 = x[3]\n",
    "    t1 = x[4]\n",
    "    q1 = q0 * np.exp(D0 * t1)\n",
    "    \n",
    "    pred = []\n",
    "    for i in range(len(t)):\n",
    "        if t[i] < t1:\n",
    "            pred.append(q0 * np.exp(D0 * t[i]))\n",
    "        else:\n",
    "            pred.append( q1 / (1.0 + b * D1 * (t[i]-t1)**(1.0/b)))\n",
    "    predY = np.asarray(pred)\n",
    "    \n",
    "    plt.plot(t, oil, 'o', t, predY, 'k-')\n",
    "\n",
    "    "
   ]
  },
  {
   "cell_type": "code",
   "execution_count": null,
   "id": "4850af24",
   "metadata": {},
   "outputs": [],
   "source": []
  }
 ],
 "metadata": {
  "kernelspec": {
   "display_name": "Python 3",
   "language": "python",
   "name": "python3"
  },
  "language_info": {
   "codemirror_mode": {
    "name": "ipython",
    "version": 3
   },
   "file_extension": ".py",
   "mimetype": "text/x-python",
   "name": "python",
   "nbconvert_exporter": "python",
   "pygments_lexer": "ipython3",
   "version": "3.8.8"
  }
 },
 "nbformat": 4,
 "nbformat_minor": 5
}
